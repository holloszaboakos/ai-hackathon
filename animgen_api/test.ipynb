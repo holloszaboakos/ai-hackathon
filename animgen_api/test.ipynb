{
 "cells": [
  {
   "cell_type": "code",
   "execution_count": 4,
   "metadata": {},
   "outputs": [],
   "source": [
    "char_desc = \"The man in the image has short, dark hair and is wearing a light blue T-shirt with printed text. They are pointing towards something, possibly engaged in explaining or presenting.\""
   ]
  },
  {
   "cell_type": "code",
   "execution_count": null,
   "metadata": {},
   "outputs": [],
   "source": [
    "import json\n",
    "import requests\n",
    "import base64\n",
    "from io import BytesIO\n",
    "from openai import OpenAI\n",
    "import os\n",
    "from PIL import Image\n",
    "from tqdm import tqdm\n",
    "\n",
    "\n",
    "client = OpenAI(\n",
    "    api_key = \"\"\n",
    ")\n",
    "\n",
    "def agent_prompt(user_request):\n",
    "    generate_animation_prompts = [\n",
    "        {\n",
    "            \"role\": \"system\",\n",
    "            \"content\": \"\"\"You are a masterful UX designer. Your job is to decide what kind of animations to prepare for an AI agent.\n",
    "First reason about the cues and functions the AI agent will perform.\n",
    "Then carefully design the AI agent's static description as a prompt to a text-to-image model, it should be a plain background, standing, distant, full body picture.\n",
    "Finally list the animations you want to generate for the AI agent including a short description, then a prompt for each animation.\n",
    "The AI's reactions should be expressive, exeggerated, and reactive to the user's possible inputs. Make sure to use deep emotional detail, as the video generator is relatively numb.\n",
    "Respond with a corresponding JSON object with the following structure:\n",
    "1. Reasoning about the AI agent's cues and functions. \n",
    "2. Static description of the AI agent. It should be a standing full body character. Choose the AI's voice (male, female, neutral) as well.\n",
    "3. List of animations with descriptions and prompts.\n",
    "\n",
    "The animation descriptions should be short and clear. The animation prompts should clearly define all intents in detail as well as directions (up, down, right, left) if relevant, and should be distinct from the others.\n",
    "Avoid designing directional cues, prefer emotions. You can only animate the character (or their possessions) as the webpage is static. The shopping section is to the left.\n",
    "Mandatory aspects of the animations: greeting, negative, positive feedback, thinking, surprise, celebration, other business-related and base emotions (such as disgust).\n",
    "\n",
    "#### Examples:\n",
    "\n",
    "Static description: A friendly blue eyed brunette with a ponytail, wearing a white blouse and a black skirt. Full body standing photograph with a white background, perfect photograph. Top to toe view, facing the camera. Distant, full figure, single person.\n",
    "Cue: We need to greet the user.\n",
    "Short description: A woman smiling and waving at the camera.\n",
    "Prompt: A beautiful woman with a wiggling ponytail, smiling and waving at the camera happily. Cheerful friendly greeting, single person.\n",
    "     \n",
    "Cue: We need to applaud the user as they add a new item to their cart.\n",
    "Short description: Positive feedback for adding an item to the cart.\n",
    "Prompt: A beautiful woman clapping and showing a thumbs up to the camera affirmatively. Encouraging applause, single person, thumbs up emote.\n",
    "\"\"\"\n",
    "        },\n",
    "        {\"role\": \"user\", \"content\": user_request}\n",
    "    ]\n",
    "    return generate_animation_prompts\n",
    "\n",
    "def agent_json_schema():\n",
    "    return {\n",
    "        \"name\": \"vid_prompt_schema\",\n",
    "        \"schema\": {\n",
    "            \"type\": \"object\",\n",
    "            \"properties\": {\n",
    "                \"reasoning\": {\n",
    "                    \"type\": \"string\"\n",
    "                },\n",
    "                \"static_description\": {\n",
    "                    \"type\": \"object\",\n",
    "                    \"properties\": {\n",
    "                        \"description\": {\n",
    "                            \"type\": \"string\",\n",
    "                            \"description\": \" A standing full body character description (no background), no close-ups.\"\n",
    "                        },\n",
    "                        \"voice\": {\n",
    "                            \"type\": \"string\",\n",
    "                            \"enum\": [\"male\", \"female\", \"neutral\"]\n",
    "                        }\n",
    "                    }\n",
    "                },\n",
    "                \"animations\": {\n",
    "                    \"type\": \"array\",\n",
    "                    \"items\": {\n",
    "                        \"type\": \"object\",\n",
    "                        \"properties\": {\n",
    "                            \"description\": {\"type\": \"string\"},\n",
    "                            \"prompt\": {\"type\": \"string\"}\n",
    "                        }\n",
    "                    }\n",
    "                }\n",
    "            }\n",
    "        }\n",
    "    }\n",
    "\n",
    "class AnimationGeneratorAgent:\n",
    "    def __init__(self):\n",
    "        self.anims = []\n",
    "        self.data = None\n",
    "\n",
    "    def generate_static_img(self):\n",
    "        self.static_path = None\n",
    "        if self.data is None:\n",
    "            raise Exception(\"You must generate animations first\")\n",
    "        if self.data[\"static_description\"]:\n",
    "            # Use the description as prompt for image generation.\n",
    "            self.static_path = self.generate_image(self.data[\"static_description\"][\"description\"])\n",
    "\n",
    "    def get_animations(self):\n",
    "        if self.data is None:\n",
    "            raise Exception(\"You must generate animations first\")\n",
    "        if not self.static_path:\n",
    "            raise Exception(\"You must generate the static image first\")\n",
    "        # Download static image using PIL and a remote URL.\n",
    "        r = requests.get(\"http://localhost:7771\" + self.static_path, stream=True)\n",
    "        if r.status_code == 200:\n",
    "            img = Image.open(BytesIO(r.content))\n",
    "        else:\n",
    "            raise Exception(\"Failed to download image\")\n",
    "        img.save(\"tmp.png\")\n",
    "        for i in tqdm(range(len(self.data[\"animations\"]))):\n",
    "            path = self.generate_video(\"tmp.png\", self.data[\"animations\"][i][\"prompt\"], \"still, static\")\n",
    "            self.anims.append({\n",
    "                \"description\": self.data[\"animations\"][i][\"description\"],\n",
    "                \"path\": path\n",
    "            })\n",
    "\n",
    "    def generate_video(self, image, prompt, negative_prompt):\n",
    "        url = \"http://localhost:7771/generate/video\"\n",
    "        with open(image, \"rb\") as f:\n",
    "            img_data = f.read()\n",
    "        img_base64 = base64.b64encode(img_data).decode(\"utf-8\")\n",
    "        payload = {\n",
    "            \"img_base64\": img_base64,\n",
    "            \"prompt\": prompt,\n",
    "            \"negative_prompt\": negative_prompt\n",
    "        }\n",
    "        response = requests.post(url, data=payload)\n",
    "        return response.json().get(\"filename\", None)\n",
    "\n",
    "    def generate_image(self, prompt):\n",
    "        url = \"http://localhost:7771/generate/image\"\n",
    "        payload = {\"prompt\": prompt}\n",
    "        response = requests.post(url, data=payload)\n",
    "        print(\"Image endpoint response:\", response.json())\n",
    "        return response.json().get(\"filename\", None)\n",
    "\n",
    "    def generate_descriptions(self, user_request):\n",
    "        prompt_messages = agent_prompt(user_request)\n",
    "        schema = agent_json_schema()\n",
    "        response = client.chat.completions.create(\n",
    "            model=\"gpt-4o\",\n",
    "            messages=prompt_messages,\n",
    "            response_format={\"type\": \"json_schema\", \"json_schema\": schema},\n",
    "            temperature=0.5\n",
    "        )\n",
    "        print(response)\n",
    "        try:\n",
    "            data = json.loads(response.choices[0].message.content)\n",
    "            self.data = data\n",
    "            return data\n",
    "        except Exception as e:\n",
    "            self.data = None\n",
    "            return None\n",
    "\n",
    "    def save_data_to_json(self):\n",
    "        with open(\"data.json\", \"w\") as f:\n",
    "            json.dump(self.data, f)\n",
    "        with open(\"anims.json\", \"w\") as f:\n",
    "            json.dump(self.anims, f)\n",
    "        with open(\"full_data.json\", \"w\") as f:\n",
    "            json.dump({\"data\": self.data, \"anims\": self.anims}, f)\n"
   ]
  },
  {
   "cell_type": "code",
   "execution_count": 25,
   "metadata": {},
   "outputs": [
    {
     "name": "stdout",
     "output_type": "stream",
     "text": [
      "ChatCompletion(id='chatcmpl-B8jS5LC32TBW4zH3LYvwt7YKMTH1u', choices=[Choice(finish_reason='stop', index=0, logprobs=None, message=ChatCompletionMessage(content='{\"reasoning\":\"The AI agent is designed to assist users with a variety of tasks, including providing information, guiding through processes, and offering feedback. The agent should exhibit a range of emotions to effectively communicate with users, such as greeting them warmly, providing positive reinforcement, showing empathy, and expressing surprise or delight. The animations should be expressive to compensate for the lack of verbal communication, ensuring users feel engaged and understood.\",\"static_description\":{\"description\":\"A man with short dark hair wearing a light blue T-shirt with printed text. Full body standing photograph with a white background, perfect photograph. Top to toe view, facing the camera. Distant, full figure, single person.\",\"voice\":\"male\"},\"animations\":[{\"description\":\"A man smiling and waving at the camera.\",\"prompt\":\"A man with short dark hair in a light blue T-shirt smiling warmly and waving at the camera. Friendly and inviting gesture, single person.\"},{\"description\":\"A man showing disappointment and shaking his head.\",\"prompt\":\"A man with short dark hair in a light blue T-shirt frowning slightly and shaking his head slowly. Disappointed and empathetic expression, single person.\"},{\"description\":\"A man giving a thumbs up and nodding approvingly.\",\"prompt\":\"A man with short dark hair in a light blue T-shirt giving a thumbs up and nodding with an approving smile. Positive reinforcement, single person.\"},{\"description\":\"A man tapping his chin thoughtfully and looking upwards.\",\"prompt\":\"A man with short dark hair in a light blue T-shirt tapping his chin with his finger and gazing upwards thoughtfully. Contemplative and introspective expression, single person.\"},{\"description\":\"A man with wide eyes and mouth agape in surprise.\",\"prompt\":\"A man with short dark hair in a light blue T-shirt with wide eyes and mouth open in surprise. Expressive and exaggerated surprise, single person.\"},{\"description\":\"A man clapping enthusiastically and smiling.\",\"prompt\":\"A man with short dark hair in a light blue T-shirt clapping his hands together enthusiastically and smiling broadly. Celebratory and encouraging, single person.\"},{\"description\":\"A man grimacing slightly as if in disgust.\",\"prompt\":\"A man with short dark hair in a light blue T-shirt grimacing slightly with a look of disgust. Expressive and clear emotion, single person.\"}]}', refusal=None, role='assistant', audio=None, function_call=None, tool_calls=None))], created=1741421041, model='gpt-4o-2024-08-06', object='chat.completion', service_tier='default', system_fingerprint='fp_eb9dce56a8', usage=CompletionUsage(completion_tokens=466, prompt_tokens=624, total_tokens=1090, completion_tokens_details=CompletionTokensDetails(accepted_prediction_tokens=0, audio_tokens=0, reasoning_tokens=0, rejected_prediction_tokens=0), prompt_tokens_details=PromptTokensDetails(audio_tokens=0, cached_tokens=0)))\n"
     ]
    }
   ],
   "source": [
    "agent = AnimationGeneratorAgent()\n",
    "# Example user request.\n",
    "data = agent.generate_descriptions(char_desc)\n",
    "    "
   ]
  },
  {
   "cell_type": "code",
   "execution_count": 26,
   "metadata": {},
   "outputs": [
    {
     "data": {
      "text/plain": [
       "{'reasoning': 'The AI agent is designed to assist users with a variety of tasks, including providing information, guiding through processes, and offering feedback. The agent should exhibit a range of emotions to effectively communicate with users, such as greeting them warmly, providing positive reinforcement, showing empathy, and expressing surprise or delight. The animations should be expressive to compensate for the lack of verbal communication, ensuring users feel engaged and understood.',\n",
       " 'static_description': {'description': 'A man with short dark hair wearing a light blue T-shirt with printed text. Full body standing photograph with a white background, perfect photograph. Top to toe view, facing the camera. Distant, full figure, single person.',\n",
       "  'voice': 'male'},\n",
       " 'animations': [{'description': 'A man smiling and waving at the camera.',\n",
       "   'prompt': 'A man with short dark hair in a light blue T-shirt smiling warmly and waving at the camera. Friendly and inviting gesture, single person.'},\n",
       "  {'description': 'A man showing disappointment and shaking his head.',\n",
       "   'prompt': 'A man with short dark hair in a light blue T-shirt frowning slightly and shaking his head slowly. Disappointed and empathetic expression, single person.'},\n",
       "  {'description': 'A man giving a thumbs up and nodding approvingly.',\n",
       "   'prompt': 'A man with short dark hair in a light blue T-shirt giving a thumbs up and nodding with an approving smile. Positive reinforcement, single person.'},\n",
       "  {'description': 'A man tapping his chin thoughtfully and looking upwards.',\n",
       "   'prompt': 'A man with short dark hair in a light blue T-shirt tapping his chin with his finger and gazing upwards thoughtfully. Contemplative and introspective expression, single person.'},\n",
       "  {'description': 'A man with wide eyes and mouth agape in surprise.',\n",
       "   'prompt': 'A man with short dark hair in a light blue T-shirt with wide eyes and mouth open in surprise. Expressive and exaggerated surprise, single person.'},\n",
       "  {'description': 'A man clapping enthusiastically and smiling.',\n",
       "   'prompt': 'A man with short dark hair in a light blue T-shirt clapping his hands together enthusiastically and smiling broadly. Celebratory and encouraging, single person.'},\n",
       "  {'description': 'A man grimacing slightly as if in disgust.',\n",
       "   'prompt': 'A man with short dark hair in a light blue T-shirt grimacing slightly with a look of disgust. Expressive and clear emotion, single person.'}]}"
      ]
     },
     "execution_count": 26,
     "metadata": {},
     "output_type": "execute_result"
    }
   ],
   "source": [
    "data"
   ]
  },
  {
   "cell_type": "code",
   "execution_count": 27,
   "metadata": {},
   "outputs": [],
   "source": [
    "agent.static_path=\"/static/kzsf.png\""
   ]
  },
  {
   "cell_type": "code",
   "execution_count": 28,
   "metadata": {},
   "outputs": [
    {
     "name": "stderr",
     "output_type": "stream",
     "text": [
      "100%|██████████| 7/7 [16:37<00:00, 142.52s/it]\n"
     ]
    }
   ],
   "source": [
    "agent.get_animations()"
   ]
  },
  {
   "cell_type": "code",
   "execution_count": 29,
   "metadata": {},
   "outputs": [],
   "source": [
    "agent.save_data_to_json()"
   ]
  },
  {
   "cell_type": "code",
   "execution_count": null,
   "metadata": {},
   "outputs": [],
   "source": []
  }
 ],
 "metadata": {
  "kernelspec": {
   "display_name": ".venv",
   "language": "python",
   "name": "python3"
  },
  "language_info": {
   "codemirror_mode": {
    "name": "ipython",
    "version": 3
   },
   "file_extension": ".py",
   "mimetype": "text/x-python",
   "name": "python",
   "nbconvert_exporter": "python",
   "pygments_lexer": "ipython3",
   "version": "3.11.11"
  }
 },
 "nbformat": 4,
 "nbformat_minor": 2
}
